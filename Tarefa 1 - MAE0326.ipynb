{
 "cells": [
  {
   "cell_type": "markdown",
   "metadata": {},
   "source": [
    "## Trabalho 1 -  MAE0326\n",
    "TO-DO: \n",
    "* erro entre invariantes diminui ou converge?\n",
    "* estimar Q"
   ]
  },
  {
   "cell_type": "code",
   "execution_count": 70,
   "metadata": {
    "collapsed": false
   },
   "outputs": [],
   "source": [
    "import numpy as np\n",
    "from random import random, seed #uniforme\n",
    "\n",
    "#geométrica normalizada que usamos em Q()\n",
    "def normalized_geom(a, x, p):\n",
    "    return (((1 - p)**(x-1))*p)/(1 - ((1-p)**(a-1))*p)\n"
   ]
  },
  {
   "cell_type": "code",
   "execution_count": 284,
   "metadata": {
    "collapsed": false
   },
   "outputs": [],
   "source": [
    "#Simulação\n",
    "#Ideias: escolher aleatoriamente ou deixar em 0, 1\n",
    "def generate_simulation(n, p, state=None):\n",
    "    if (state != None):\n",
    "        seed(state)\n",
    "    sim = np.zeros((n + 100), dtype=\"int32\")\n",
    "    sim[0] = 1\n",
    "    sim[1] = 1\n",
    "    i = 2\n",
    "    while i < n + 100:\n",
    "        #pega uma uniforme\n",
    "        target = random()\n",
    "    \n",
    "        #Q(ba, x)\n",
    "        if (sim[i - 1] != sim[i - 2]):\n",
    "            if (target < 1/2):\n",
    "                sim[i] = sim[i - 1]\n",
    "                continue\n",
    "            acc = 1/2\n",
    "            x = 0\n",
    "            while (acc < target and x < 7):\n",
    "                x += 1\n",
    "                if (x == sim[i - 1]):\n",
    "                    continue\n",
    "                acc += 0.5 * normalized_geom(sim[i - 1], x, p)\n",
    "            sim[i] = x\n",
    "        #Q(aa, x)\n",
    "        else:\n",
    "            acc = 0\n",
    "            x = 0\n",
    "            while (acc < target and x < 7):\n",
    "                x += 1\n",
    "                if (x == sim[i - 1]):\n",
    "                    continue\n",
    "                acc += normalized_geom(sim[i - 1], x, p)\n",
    "            sim[i] = x\n",
    "        i += 1\n",
    "    return sim[100:]\n",
    "            \n",
    "    "
   ]
  },
  {
   "cell_type": "code",
   "execution_count": 201,
   "metadata": {
    "collapsed": false
   },
   "outputs": [
    {
     "data": {
      "image/png": "[encoded data removed]",
      "text/plain": [
       "<matplotlib.figure.Figure at 0x7f6c0af115c0>"
      ]
     },
     "metadata": {},
     "output_type": "display_data"
    }
   ],
   "source": [
    "import matplotlib.pyplot as plt\n",
    "%matplotlib inline\n",
    "plt.plot(np.arange(101), generate_simulation(101, 0.5, 0))\n",
    "plt.show()"
   ]
  },
  {
   "cell_type": "code",
   "execution_count": 202,
   "metadata": {
    "collapsed": false
   },
   "outputs": [],
   "source": [
    "#estima medidas invariantes por contagem\n",
    "def estimate_invariants(sim):\n",
    "    return np.array([np.sum(sim == x) for x in range(max(sim))])[1:] / len(sim)\n",
    "\n",
    "#calcula distancia entre invariantes, levando em conta que podem não ter o mesmo tamanho\n",
    "def distance_invariants(pi_a, pi_b):\n",
    "    minshape = min(pi_a.shape[0], pi_b.shape[0])\n",
    "    dist = np.sum(np.abs(pi_a[:minshape] - pi_b[:minshape]))\n",
    "    dist += np.sum(pi_a[minshape:]) + np.sum(pi_b[:minshape])\n",
    "    return dist / max(pi_a.shape[0], pi_b.shape[0])\n",
    "\n",
    "#estima invariantes do processo com p = p. Aumenta o tamanho da simulação até obter uma diferença menor que epsilon\n",
    "def estimate_invariants_to_error(p, epsilon):\n",
    "    delta = float('inf')\n",
    "    #gera um estado aleatório para poder simular o mesmo processo a varios tamanhos\n",
    "    state = random() \n",
    "    n = 1000\n",
    "    base = generate_simulation(n, p, state)\n",
    "    base_inv = estimate_invariants(base)\n",
    "    while (delta > epsilon):\n",
    "        prox = generate_simulation(n + 10, p, state)\n",
    "        prox_inv = estimate_invariants(prox)\n",
    "        \n",
    "        delta = distance_invariants(base_inv, prox_inv)\n",
    "        base = prox\n",
    "        base_inv = prox_inv\n",
    "        n = n + 1000\n",
    "        if n == 1000000:\n",
    "            break\n",
    "        \n",
    "    return base, base_inv, n, delta"
   ]
  },
  {
   "cell_type": "code",
   "execution_count": 203,
   "metadata": {
    "collapsed": false
   },
   "outputs": [
    {
     "ename": "KeyboardInterrupt",
     "evalue": "",
     "output_type": "error",
     "traceback": [
      "\u001b[1;31m---------------------------------------------------------------------------\u001b[0m",
      "\u001b[1;31mKeyboardInterrupt\u001b[0m                         Traceback (most recent call last)",
      "\u001b[1;32m<ipython-input-203-b1bf69ef000e>\u001b[0m in \u001b[0;36m<module>\u001b[1;34m()\u001b[0m\n\u001b[1;32m----> 1\u001b[1;33m \u001b[0msim\u001b[0m\u001b[1;33m,\u001b[0m \u001b[0mpi\u001b[0m\u001b[1;33m,\u001b[0m \u001b[0mn\u001b[0m\u001b[1;33m,\u001b[0m \u001b[0merr\u001b[0m \u001b[1;33m=\u001b[0m \u001b[0mestimate_invariants_to_error\u001b[0m\u001b[1;33m(\u001b[0m\u001b[1;36m0.5\u001b[0m\u001b[1;33m,\u001b[0m \u001b[1;36m0.01\u001b[0m\u001b[1;33m)\u001b[0m\u001b[1;33m\u001b[0m\u001b[0m\n\u001b[0m",
      "\u001b[1;32m<ipython-input-202-f83ab7538e0b>\u001b[0m in \u001b[0;36mestimate_invariants_to_error\u001b[1;34m(p, epsilon)\u001b[0m\n\u001b[0;32m     19\u001b[0m     \u001b[0mbase_inv\u001b[0m \u001b[1;33m=\u001b[0m \u001b[0mestimate_invariants\u001b[0m\u001b[1;33m(\u001b[0m\u001b[0mbase\u001b[0m\u001b[1;33m)\u001b[0m\u001b[1;33m\u001b[0m\u001b[0m\n\u001b[0;32m     20\u001b[0m     \u001b[1;32mwhile\u001b[0m \u001b[1;33m(\u001b[0m\u001b[0mdelta\u001b[0m \u001b[1;33m>\u001b[0m \u001b[0mepsilon\u001b[0m\u001b[1;33m)\u001b[0m\u001b[1;33m:\u001b[0m\u001b[1;33m\u001b[0m\u001b[0m\n\u001b[1;32m---> 21\u001b[1;33m         \u001b[0mprox\u001b[0m \u001b[1;33m=\u001b[0m \u001b[0mgenerate_simulation\u001b[0m\u001b[1;33m(\u001b[0m\u001b[0mn\u001b[0m \u001b[1;33m+\u001b[0m \u001b[1;36m10\u001b[0m\u001b[1;33m,\u001b[0m \u001b[0mp\u001b[0m\u001b[1;33m,\u001b[0m \u001b[0mstate\u001b[0m\u001b[1;33m)\u001b[0m\u001b[1;33m\u001b[0m\u001b[0m\n\u001b[0m\u001b[0;32m     22\u001b[0m         \u001b[0mprox_inv\u001b[0m \u001b[1;33m=\u001b[0m \u001b[0mestimate_invariants\u001b[0m\u001b[1;33m(\u001b[0m\u001b[0mprox\u001b[0m\u001b[1;33m)\u001b[0m\u001b[1;33m\u001b[0m\u001b[0m\n\u001b[0;32m     23\u001b[0m \u001b[1;33m\u001b[0m\u001b[0m\n",
      "\u001b[1;32m<ipython-input-200-daa7ec6ec3c1>\u001b[0m in \u001b[0;36mgenerate_simulation\u001b[1;34m(n, p, state)\u001b[0m\n\u001b[0;32m     23\u001b[0m                 \u001b[1;32mif\u001b[0m \u001b[1;33m(\u001b[0m\u001b[0mx\u001b[0m \u001b[1;33m==\u001b[0m \u001b[0msim\u001b[0m\u001b[1;33m[\u001b[0m\u001b[0mi\u001b[0m \u001b[1;33m-\u001b[0m \u001b[1;36m1\u001b[0m\u001b[1;33m]\u001b[0m\u001b[1;33m)\u001b[0m\u001b[1;33m:\u001b[0m\u001b[1;33m\u001b[0m\u001b[0m\n\u001b[0;32m     24\u001b[0m                     \u001b[1;32mcontinue\u001b[0m\u001b[1;33m\u001b[0m\u001b[0m\n\u001b[1;32m---> 25\u001b[1;33m                 \u001b[0macc\u001b[0m \u001b[1;33m+=\u001b[0m \u001b[1;36m0.5\u001b[0m \u001b[1;33m*\u001b[0m \u001b[0mnormalized_geom\u001b[0m\u001b[1;33m(\u001b[0m\u001b[0msim\u001b[0m\u001b[1;33m[\u001b[0m\u001b[0mi\u001b[0m \u001b[1;33m-\u001b[0m \u001b[1;36m1\u001b[0m\u001b[1;33m]\u001b[0m\u001b[1;33m,\u001b[0m \u001b[0mx\u001b[0m\u001b[1;33m,\u001b[0m \u001b[0mp\u001b[0m\u001b[1;33m)\u001b[0m\u001b[1;33m\u001b[0m\u001b[0m\n\u001b[0m\u001b[0;32m     26\u001b[0m             \u001b[0msim\u001b[0m\u001b[1;33m[\u001b[0m\u001b[0mi\u001b[0m\u001b[1;33m]\u001b[0m \u001b[1;33m=\u001b[0m \u001b[0mx\u001b[0m\u001b[1;33m\u001b[0m\u001b[0m\n\u001b[0;32m     27\u001b[0m         \u001b[1;31m#Q(aa, x)\u001b[0m\u001b[1;33m\u001b[0m\u001b[1;33m\u001b[0m\u001b[0m\n",
      "\u001b[1;32m<ipython-input-70-37fc9fa8649d>\u001b[0m in \u001b[0;36mnormalized_geom\u001b[1;34m(a, x, p)\u001b[0m\n\u001b[0;32m      4\u001b[0m \u001b[1;31m#geométrica normalizada que usamos em Q()\u001b[0m\u001b[1;33m\u001b[0m\u001b[1;33m\u001b[0m\u001b[0m\n\u001b[0;32m      5\u001b[0m \u001b[1;32mdef\u001b[0m \u001b[0mnormalized_geom\u001b[0m\u001b[1;33m(\u001b[0m\u001b[0ma\u001b[0m\u001b[1;33m,\u001b[0m \u001b[0mx\u001b[0m\u001b[1;33m,\u001b[0m \u001b[0mp\u001b[0m\u001b[1;33m)\u001b[0m\u001b[1;33m:\u001b[0m\u001b[1;33m\u001b[0m\u001b[0m\n\u001b[1;32m----> 6\u001b[1;33m     \u001b[1;32mreturn\u001b[0m \u001b[1;33m(\u001b[0m\u001b[1;33m(\u001b[0m\u001b[1;33m(\u001b[0m\u001b[1;36m1\u001b[0m \u001b[1;33m-\u001b[0m \u001b[0mp\u001b[0m\u001b[1;33m)\u001b[0m\u001b[1;33m**\u001b[0m\u001b[1;33m(\u001b[0m\u001b[0mx\u001b[0m\u001b[1;33m-\u001b[0m\u001b[1;36m1\u001b[0m\u001b[1;33m)\u001b[0m\u001b[1;33m)\u001b[0m\u001b[1;33m*\u001b[0m\u001b[0mp\u001b[0m\u001b[1;33m)\u001b[0m\u001b[1;33m/\u001b[0m\u001b[1;33m(\u001b[0m\u001b[1;36m1\u001b[0m \u001b[1;33m-\u001b[0m \u001b[1;33m(\u001b[0m\u001b[1;33m(\u001b[0m\u001b[1;36m1\u001b[0m\u001b[1;33m-\u001b[0m\u001b[0mp\u001b[0m\u001b[1;33m)\u001b[0m\u001b[1;33m**\u001b[0m\u001b[1;33m(\u001b[0m\u001b[0ma\u001b[0m\u001b[1;33m-\u001b[0m\u001b[1;36m1\u001b[0m\u001b[1;33m)\u001b[0m\u001b[1;33m)\u001b[0m\u001b[1;33m*\u001b[0m\u001b[0mp\u001b[0m\u001b[1;33m)\u001b[0m\u001b[1;33m\u001b[0m\u001b[0m\n\u001b[0m",
      "\u001b[1;31mKeyboardInterrupt\u001b[0m: "
     ]
    }
   ],
   "source": [
    "sim, pi, n, err = estimate_invariants_to_error(0.5, 0.01)"
   ]
  },
  {
   "cell_type": "code",
   "execution_count": null,
   "metadata": {
    "collapsed": false
   },
   "outputs": [],
   "source": [
    "print(n, err)"
   ]
  },
  {
   "cell_type": "code",
   "execution_count": null,
   "metadata": {
    "collapsed": true
   },
   "outputs": [],
   "source": [
    "from math import log, ceil\n",
    "from collections import Counter"
   ]
  },
  {
   "cell_type": "code",
   "execution_count": 345,
   "metadata": {
    "collapsed": false
   },
   "outputs": [
    {
     "name": "stdout",
     "output_type": "stream",
     "text": [
      "1.0\n"
     ]
    }
   ],
   "source": [
    "\n",
    "def estimate_matrix(sample):\n",
    "    N = len(sample) + 1\n",
    "    counter = Counter([sample[i - 3:i] for i in range(3, N)])\n",
    "    context = Counter([sample[i - 2:i] for i in range(2, N - 1)])\n",
    "    #print(counter)\n",
    "    #print(context)\n",
    "    matrix = dict()\n",
    "    for key, value in counter.items():\n",
    "        new_key = (key[0] + key[1]*10, key[2])\n",
    "        matrix[new_key] = value/context[key[:2]] if context[key[:2]] != 0 else 0\n",
    "    #print(matrix)\n",
    "    max_s = max([key[0] for key in matrix]) + 1 #0 isnt used\n",
    "    matrix_form = np.zeros((max_s, max(sample) + 1))\n",
    "    for key, value in matrix.items():\n",
    "        matrix_form[key] = value\n",
    "        \n",
    "    return matrix_form[1:, 1:]\n",
    "\n",
    "def estimate_invariant(sample, eps, beta):\n",
    "    n = int(ceil(log(eps)/log(1 - beta)))\n",
    "    #print(n)\n",
    "    N = len(sample) + 1\n",
    "    n_grams = [(sample[i - n], sample[i - 1]) for i in range(n, N)]\n",
    "    #print(n_grams)\n",
    "    counter = Counter(n_grams)\n",
    "    #print(counter)\n",
    "    invariant = np.zeros((max(sample) + 1, 3))\n",
    "    v = 0\n",
    "    for key, value in counter.items():\n",
    "        #print(value)\n",
    "        invariant[key[1], :] = np.array([max(0,value/(N - n) - eps), min(1,value/(N - n) + eps), value/(N - n)])\n",
    "        v += value\n",
    "    print(v/(N - n))\n",
    "    return invariant[1:, :] \n",
    "\n",
    "simulation = tuple(generate_simulation(1000, 1/2))\n",
    "#print(simulation)\n",
    "matrix = estimate_matrix(simulation)\n",
    "#print(matrix)\n",
    "invariant = estimate_invariant(simulation, 0.01, 1/4)\n",
    "#print(invariant)"
   ]
  },
  {
   "cell_type": "code",
   "execution_count": 346,
   "metadata": {
    "collapsed": false
   },
   "outputs": [
    {
     "data": {
      "image/png": "[encoded data removed]",
      "text/plain": [
       "<matplotlib.figure.Figure at 0x7f6c0b9b5048>"
      ]
     },
     "metadata": {},
     "output_type": "display_data"
    }
   ],
   "source": [
    "def geo(x):\n",
    "    return 0.5*(0.5)**(x - 1)\n",
    "\n",
    "plt.plot(np.arange(1, invariant.shape[0] + 1), invariant[:, 2], label=\"Distribuição Invariante\")\n",
    "plt.plot(np.arange(1, invariant.shape[0] + 1), [geo(i) for i in range(1, invariant.shape[0] + 1)], label=\"Distribuição Geométrica\")\n",
    "plt.legend()\n",
    "plt.show()"
   ]
  },
  {
   "cell_type": "code",
   "execution_count": null,
   "metadata": {
    "collapsed": true
   },
   "outputs": [],
   "source": []
  }
 ],
 "metadata": {
  "kernelspec": {
   "display_name": "Python 3",
   "language": "python",
   "name": "python3"
  },
  "language_info": {
   "codemirror_mode": {
    "name": "ipython",
    "version": 3
   },
   "file_extension": ".py",
   "mimetype": "text/x-python",
   "name": "python",
   "nbconvert_exporter": "python",
   "pygments_lexer": "ipython3",
   "version": "3.5.4"
  }
 },
 "nbformat": 4,
 "nbformat_minor": 0
}
