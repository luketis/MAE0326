{
 "cells": [
  {
   "cell_type": "markdown",
   "metadata": {},
   "source": [
    "## Trabalho 1 -  MAE0326\n",
    "TO-DO: \n",
    "* erro entre invariantes diminui ou converge?\n",
    "* estimar Q"
   ]
  },
  {
   "cell_type": "code",
   "execution_count": 73,
   "metadata": {
    "collapsed": false
   },
   "outputs": [],
   "source": [
    "import numpy as np\n",
    "from random import random, seed #uniforme\n",
    "\n",
    "#geométrica normalizada que usamos em Q()\n",
    "def normalized_geom(a, x, p):\n",
    "    return (1 - p) ** (x-1) * p / (1 - (1-p) ** (a-1) * p)\n"
   ]
  },
  {
   "cell_type": "code",
   "execution_count": 74,
   "metadata": {
    "collapsed": false
   },
   "outputs": [],
   "source": [
    "#Simulação\n",
    "#Ideias: escolher aleatoriamente ou deixar em 0, 1\n",
    "def generate_simulation(n, p, state=None):\n",
    "    if (state != None):\n",
    "        seed(state)\n",
    "    sim = np.zeros((n + 2), dtype=\"int32\")\n",
    "    sim[0] = 0\n",
    "    sim[1] = 1\n",
    "    i = 2\n",
    "    while i < n + 2:\n",
    "        #pega uma uniforme\n",
    "        target = random()\n",
    "    \n",
    "        #Q(ba, x)\n",
    "        if (sim[i - 1] != sim[i - 2]):\n",
    "            if (target <= 1/2):\n",
    "                sim[i] = sim[i - 1]\n",
    "                continue\n",
    "            acc = 1/2\n",
    "            x = 0\n",
    "            while (acc < target):\n",
    "                x += 1\n",
    "                if (x == sim[i - 1]):\n",
    "                    continue\n",
    "                acc += 0.5 * normalized_geom(sim[i - 1], x, p)\n",
    "            sim[i] = x\n",
    "        #Q(aa, x)\n",
    "        else:\n",
    "            acc = 0\n",
    "            x = 0\n",
    "            while (acc < target):\n",
    "                x += 1\n",
    "                if (x == sim[i - 1]):\n",
    "                    continue\n",
    "                acc += normalized_geom(sim[i - 1], x, p)\n",
    "            sim[i] = x\n",
    "        i += 1\n",
    "    return sim[2:]\n",
    "            \n",
    "    "
   ]
  },
  {
   "cell_type": "code",
   "execution_count": 77,
   "metadata": {
    "collapsed": false
   },
   "outputs": [
    {
     "data": {
      "image/png": "[encoded data removed]",
      "text/plain": [
       "<matplotlib.figure.Figure at 0x7f1778efb6a0>"
      ]
     },
     "metadata": {},
     "output_type": "display_data"
    }
   ],
   "source": [
    "import matplotlib.pyplot as plt\n",
    "%matplotlib inline\n",
    "plt.plot(np.arange(101), generate_simulation(101, 0.5, 0))\n",
    "plt.show()"
   ]
  },
  {
   "cell_type": "code",
   "execution_count": 110,
   "metadata": {
    "collapsed": false
   },
   "outputs": [],
   "source": [
    "#estima medidas invariantes por contagem\n",
    "def estimate_invariants(sim):\n",
    "    return np.array([np.sum(sim == x) for x in range(max(sim))])[1:] / len(sim)\n",
    "\n",
    "#calcula distancia entre invariantes, levando em conta que podem não ter o mesmo tamanho\n",
    "def distance_invariants(pi_a, pi_b):\n",
    "    minshape = min(pi_a.shape[0], pi_b.shape[0])\n",
    "    dist = np.sum(np.abs(pi_a[:minshape] - pi_b[:minshape]))\n",
    "    dist += np.sum(pi_a[minshape:]) + np.sum(pi_b[:minshape])\n",
    "    return dist / max(pi_a.shape[0], pi_b.shape[0])\n",
    "\n",
    "#estima invariantes do processo com p = p. Aumenta o tamanho da simulação até obter uma diferença menor que epsilon\n",
    "def estimate_invariants_to_error(p, epsilon):\n",
    "    delta = float('inf')\n",
    "    #gera um estado aleatório para poder simular o mesmo processo a varios tamanhos\n",
    "    state = random() \n",
    "    n = 1000\n",
    "    base = generate_simulation(n, p, state)\n",
    "    base_inv = estimate_invariants(base)\n",
    "    while (delta > epsilon):\n",
    "        prox = generate_simulation(n + 10, p, state)\n",
    "        prox_inv = estimate_invariants(prox)\n",
    "        \n",
    "        delta = distance_invariants(base_inv, prox_inv)\n",
    "        base = prox\n",
    "        base_inv = prox_inv\n",
    "        n = n + 1000\n",
    "        if n == 1000000:\n",
    "            break\n",
    "        \n",
    "    return base, base_inv, n, delta"
   ]
  },
  {
   "cell_type": "code",
   "execution_count": null,
   "metadata": {
    "collapsed": false
   },
   "outputs": [],
   "source": [
    "sim, pi, n, err = estimate_invariants_to_error(0.5, 0.01)"
   ]
  },
  {
   "cell_type": "code",
   "execution_count": 106,
   "metadata": {
    "collapsed": false
   },
   "outputs": [
    {
     "name": "stdout",
     "output_type": "stream",
     "text": [
      "1800 0.0913634547502\n"
     ]
    }
   ],
   "source": [
    "print(n, err)"
   ]
  },
  {
   "cell_type": "code",
   "execution_count": null,
   "metadata": {
    "collapsed": true
   },
   "outputs": [],
   "source": []
  }
 ],
 "metadata": {
  "kernelspec": {
   "display_name": "Python 3",
   "language": "python",
   "name": "python3"
  },
  "language_info": {
   "codemirror_mode": {
    "name": "ipython",
    "version": 3
   },
   "file_extension": ".py",
   "mimetype": "text/x-python",
   "name": "python",
   "nbconvert_exporter": "python",
   "pygments_lexer": "ipython3",
   "version": "3.5.1"
  }
 },
 "nbformat": 4,
 "nbformat_minor": 0
}
